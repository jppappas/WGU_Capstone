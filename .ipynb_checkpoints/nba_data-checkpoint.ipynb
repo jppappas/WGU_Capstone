{
 "cells": [
  {
   "cell_type": "markdown",
   "id": "57892cba",
   "metadata": {},
   "source": [
    "## Welcome to the WGU Draft Inc. Prospect App!\n"
   ]
  },
  {
   "cell_type": "markdown",
   "id": "f7dda1eb",
   "metadata": {},
   "source": [
    "\n",
    "This code is for inspection purposes only.  Interaction can be done either in this notebook or by clicking the \"Voila\" button in the toolbar above.  If for any reason you need to execute a section of code, please press the Shift + Enter keys to execute.\n",
    "Enjoy the application!\n",
    "\n",
    "\n",
    "\n",
    "\n",
    "Below we see a sample of our data.  While the player_name field isn't necessary for the model, it does make reading the table a bit easier."
   ]
  },
  {
   "cell_type": "code",
   "execution_count": 1,
   "id": "7a4c05a9",
   "metadata": {},
   "outputs": [
    {
     "data": {
      "text/html": [
       "<div>\n",
       "<style scoped>\n",
       "    .dataframe tbody tr th:only-of-type {\n",
       "        vertical-align: middle;\n",
       "    }\n",
       "\n",
       "    .dataframe tbody tr th {\n",
       "        vertical-align: top;\n",
       "    }\n",
       "\n",
       "    .dataframe thead th {\n",
       "        text-align: right;\n",
       "    }\n",
       "</style>\n",
       "<table border=\"1\" class=\"dataframe\">\n",
       "  <thead>\n",
       "    <tr style=\"text-align: right;\">\n",
       "      <th></th>\n",
       "      <th>player_name</th>\n",
       "      <th>TS_pct</th>\n",
       "      <th>heightInCm</th>\n",
       "      <th>weightInKg</th>\n",
       "    </tr>\n",
       "  </thead>\n",
       "  <tbody>\n",
       "    <tr>\n",
       "      <th>0</th>\n",
       "      <td>Aaron Brooks</td>\n",
       "      <td>0.521</td>\n",
       "      <td>182.9</td>\n",
       "      <td>73.0</td>\n",
       "    </tr>\n",
       "    <tr>\n",
       "      <th>1</th>\n",
       "      <td>Aaron Gordon</td>\n",
       "      <td>0.528</td>\n",
       "      <td>205.7</td>\n",
       "      <td>100.9</td>\n",
       "    </tr>\n",
       "    <tr>\n",
       "      <th>2</th>\n",
       "      <td>Aaron Gray</td>\n",
       "      <td>0.527</td>\n",
       "      <td>213.4</td>\n",
       "      <td>122.5</td>\n",
       "    </tr>\n",
       "    <tr>\n",
       "      <th>3</th>\n",
       "      <td>Aaron Harrison</td>\n",
       "      <td>0.288</td>\n",
       "      <td>198.1</td>\n",
       "      <td>95.3</td>\n",
       "    </tr>\n",
       "    <tr>\n",
       "      <th>4</th>\n",
       "      <td>Aaron Holiday</td>\n",
       "      <td>0.521</td>\n",
       "      <td>185.4</td>\n",
       "      <td>83.9</td>\n",
       "    </tr>\n",
       "    <tr>\n",
       "      <th>5</th>\n",
       "      <td>Aaron Jackson</td>\n",
       "      <td>0.405</td>\n",
       "      <td>190.5</td>\n",
       "      <td>83.0</td>\n",
       "    </tr>\n",
       "    <tr>\n",
       "      <th>6</th>\n",
       "      <td>Aaron McKie</td>\n",
       "      <td>0.476</td>\n",
       "      <td>195.6</td>\n",
       "      <td>94.8</td>\n",
       "    </tr>\n",
       "    <tr>\n",
       "      <th>7</th>\n",
       "      <td>Aaron Miles</td>\n",
       "      <td>0.405</td>\n",
       "      <td>185.4</td>\n",
       "      <td>86.2</td>\n",
       "    </tr>\n",
       "    <tr>\n",
       "      <th>8</th>\n",
       "      <td>Aaron Williams</td>\n",
       "      <td>0.554</td>\n",
       "      <td>205.7</td>\n",
       "      <td>106.6</td>\n",
       "    </tr>\n",
       "    <tr>\n",
       "      <th>9</th>\n",
       "      <td>Abdel Nader</td>\n",
       "      <td>0.513</td>\n",
       "      <td>198.1</td>\n",
       "      <td>102.8</td>\n",
       "    </tr>\n",
       "    <tr>\n",
       "      <th>10</th>\n",
       "      <td>Acie Law</td>\n",
       "      <td>0.508</td>\n",
       "      <td>190.5</td>\n",
       "      <td>90.8</td>\n",
       "    </tr>\n",
       "    <tr>\n",
       "      <th>11</th>\n",
       "      <td>Adam Mokoka</td>\n",
       "      <td>0.538</td>\n",
       "      <td>195.6</td>\n",
       "      <td>86.2</td>\n",
       "    </tr>\n",
       "    <tr>\n",
       "      <th>12</th>\n",
       "      <td>Adam Morrison</td>\n",
       "      <td>0.439</td>\n",
       "      <td>203.2</td>\n",
       "      <td>93.0</td>\n",
       "    </tr>\n",
       "    <tr>\n",
       "      <th>13</th>\n",
       "      <td>Admiral Schofield</td>\n",
       "      <td>0.514</td>\n",
       "      <td>195.6</td>\n",
       "      <td>109.3</td>\n",
       "    </tr>\n",
       "    <tr>\n",
       "      <th>14</th>\n",
       "      <td>Adonal Foyle</td>\n",
       "      <td>0.536</td>\n",
       "      <td>208.3</td>\n",
       "      <td>122.5</td>\n",
       "    </tr>\n",
       "  </tbody>\n",
       "</table>\n",
       "</div>"
      ],
      "text/plain": [
       "          player_name  TS_pct  heightInCm  weightInKg\n",
       "0        Aaron Brooks   0.521       182.9        73.0\n",
       "1        Aaron Gordon   0.528       205.7       100.9\n",
       "2          Aaron Gray   0.527       213.4       122.5\n",
       "3      Aaron Harrison   0.288       198.1        95.3\n",
       "4       Aaron Holiday   0.521       185.4        83.9\n",
       "5       Aaron Jackson   0.405       190.5        83.0\n",
       "6         Aaron McKie   0.476       195.6        94.8\n",
       "7         Aaron Miles   0.405       185.4        86.2\n",
       "8      Aaron Williams   0.554       205.7       106.6\n",
       "9         Abdel Nader   0.513       198.1       102.8\n",
       "10           Acie Law   0.508       190.5        90.8\n",
       "11        Adam Mokoka   0.538       195.6        86.2\n",
       "12      Adam Morrison   0.439       203.2        93.0\n",
       "13  Admiral Schofield   0.514       195.6       109.3\n",
       "14       Adonal Foyle   0.536       208.3       122.5"
      ]
     },
     "execution_count": 1,
     "metadata": {},
     "output_type": "execute_result"
    }
   ],
   "source": [
    "import pandas as pd\n",
    "import dash\n",
    "import numpy as np\n",
    "import matplotlib.pyplot as plt\n",
    "import sklearn\n",
    "from sklearn.model_selection import train_test_split\n",
    "import statsmodels.api as sm\n",
    "from sklearn import linear_model\n",
    "from sklearn.metrics import r2_score\n",
    "import ipywidgets as widgets\n",
    "from ipywidgets import interact\n",
    "from IPython.display import display\n",
    "import seaborn as sns\n",
    "import sklearn.metrics as smetrics\n",
    "\n",
    "player_data = pd.read_csv(\"nba_player_data.csv\")\n",
    "player_data.head(15)\n"
   ]
  },
  {
   "cell_type": "code",
   "execution_count": 2,
   "id": "26b2335e",
   "metadata": {},
   "outputs": [],
   "source": [
    "height = player_data[\"heightInCm\"]\n",
    "weight = player_data[\"weightInKg\"]\n",
    "shooting = player_data[\"TS_pct\"]"
   ]
  },
  {
   "cell_type": "markdown",
   "id": "fe162340",
   "metadata": {},
   "source": [
    "## This table represents the True Shooting Percentage (TS%) data.\n",
    "\n",
    "\"True shooting percentage is a measure of shooting efficiency that takes into account field goals, 3-point field goals, and free throws.\"  - Basketball Reference, Glossary.\n"
   ]
  },
  {
   "cell_type": "code",
   "execution_count": 3,
   "id": "b38b1935",
   "metadata": {},
   "outputs": [
    {
     "data": {
      "text/plain": [
       "<AxesSubplot:title={'center':'Overview of All Players TS%'}, xlabel='True Shooting %', ylabel='Number of players'>"
      ]
     },
     "execution_count": 3,
     "metadata": {},
     "output_type": "execute_result"
    },
    {
     "data": {
      "image/png": "[encoded data removed]",
      "text/plain": [
       "<Figure size 432x288 with 1 Axes>"
      ]
     },
     "metadata": {
      "needs_background": "light"
     },
     "output_type": "display_data"
    }
   ],
   "source": [
    "plt.xlabel('True Shooting %')\n",
    "plt.ylabel('Number of players')\n",
    "plt.title('Overview of All Players TS%')\n",
    "\n",
    "\n",
    "player_data[\"TS_pct\"].hist()"
   ]
  },
  {
   "cell_type": "markdown",
   "id": "cf879b0e",
   "metadata": {},
   "source": [
    "\n",
    "Most NBA players from 2004-2017 are within .47-.54 true shooting percentage.  The extreme outliers (.90 and above) were cut due to their infrequent appearences as well as questionable accuracy (some had over 1.00 TS% which indicates either very low playing time or inaccurate data).  In order to improve the model, outliers with TS%s under 25% were eliminated as well.  While this eliminated maybe 30 records from our database, it increased accuracy by 4%."
   ]
  },
  {
   "cell_type": "markdown",
   "id": "a1839de6",
   "metadata": {},
   "source": [
    "## These scatter plots represent the different factors that affect a player's TS%.\n",
    "You can view a player's height relevant to their TS% or weight relevant to their TS% by making a selection below.  \n",
    "\n",
    "Please click 'Height' for Height table and 'Weight' for Weight table.  "
   ]
  },
  {
   "cell_type": "code",
   "execution_count": 4,
   "id": "72b77205",
   "metadata": {
    "scrolled": false
   },
   "outputs": [
    {
     "data": {
      "application/vnd.jupyter.widget-view+json": {
       "model_id": "e20f2046df9d4461b8552525899745e9",
       "version_major": 2,
       "version_minor": 0
      },
      "text/plain": [
       "Button(description='Height', style=ButtonStyle())"
      ]
     },
     "metadata": {},
     "output_type": "display_data"
    },
    {
     "data": {
      "application/vnd.jupyter.widget-view+json": {
       "model_id": "a4f0cd3627a94c20a38c973ee1b00dec",
       "version_major": 2,
       "version_minor": 0
      },
      "text/plain": [
       "Output()"
      ]
     },
     "metadata": {},
     "output_type": "display_data"
    },
    {
     "data": {
      "application/vnd.jupyter.widget-view+json": {
       "model_id": "00e156c1b2f0465e9738ff08d569ce9d",
       "version_major": 2,
       "version_minor": 0
      },
      "text/plain": [
       "Button(description='Weight', style=ButtonStyle())"
      ]
     },
     "metadata": {},
     "output_type": "display_data"
    },
    {
     "data": {
      "application/vnd.jupyter.widget-view+json": {
       "model_id": "11c79f82e2a349cd8e6f4682cc41d9eb",
       "version_major": 2,
       "version_minor": 0
      },
      "text/plain": [
       "Output()"
      ]
     },
     "metadata": {},
     "output_type": "display_data"
    }
   ],
   "source": [
    "buttonH = widgets.Button(description=\"Height\")\n",
    "buttonW = widgets.Button(description=\"Weight\")\n",
    "output1 = widgets.Output()\n",
    "output2 = widgets.Output()\n",
    "\n",
    "display(buttonH,output1)\n",
    "display(buttonW,output2)\n",
    "\n",
    "@output1.capture(clear_output=True)\n",
    "@output2.capture(clear_output=True)\n",
    "def heightClick(b):\n",
    "    with output1:\n",
    "        return heightTS()\n",
    "\n",
    "@output1.capture(clear_output=True)\n",
    "@output2.capture(clear_output=True)\n",
    "def weightClick(b):\n",
    "    with output2:\n",
    "        return weightTS()\n",
    "        \n",
    "buttonH.on_click(heightClick)\n",
    "buttonW.on_click(weightClick)\n",
    "\n",
    "\n",
    "def heightTS():\n",
    "    plt.xlabel('True Shooting %')\n",
    "    plt.ylabel('Height (cm)')\n",
    "    plt.title('Height of Player Relevant to Their TS%')\n",
    "\n",
    "    plt.scatter(shooting, height)\n",
    "    plt.show()\n",
    "    \n",
    "def weightTS():\n",
    "    plt.xlabel('True Shooting %')\n",
    "    plt.ylabel('Weight (kg)')\n",
    "    plt.title('Weight of Player Relevant to Their TS%')\n",
    "    plt.scatter(shooting, weight)\n",
    "    plt.show()"
   ]
  },
  {
   "cell_type": "markdown",
   "id": "fc21cdf8",
   "metadata": {},
   "source": [
    "Notice the average height is in between 185-210cm and the average weight is 80-120kg.\n",
    "\n",
    "\n",
    "\n",
    "\n",
    "\n",
    "\n",
    "\n",
    "\n"
   ]
  },
  {
   "cell_type": "code",
   "execution_count": 15,
   "id": "d8ba1071",
   "metadata": {},
   "outputs": [],
   "source": [
    "\n",
    "X = player_data[[\"heightInCm\", \"weightInKg\"]]\n",
    "\n",
    "y = player_data[\"TS_pct\"]\n",
    "\n",
    " \n",
    "\n",
    "X_train, X_test, y_train, y_test = train_test_split(X, y, test_size=0.3)\n",
    "\n",
    "X_train_sm = sm.add_constant(X_train)\n",
    "\n",
    "lr = sm.OLS(y_train, X_train_sm).fit()\n",
    "\n",
    "predictions = lr.predict(X_train_sm)\n",
    "\n",
    "regr = linear_model.LinearRegression().fit(X_train,y_train)\n"
   ]
  },
  {
   "cell_type": "markdown",
   "id": "9ca76542",
   "metadata": {},
   "source": [
    "# PREDICTION MODEL\n",
    "Please enter a number in the first box for height and another number in the second box for weight.  Please note that height needs to be in centimeters and weight in kilograms. You can play around with the sliders and see how the predictions change based on the different inputs.\n",
    "\n",
    "Below the \"Predict!\" button is the Mean Absolute Percentage Error for the model.  The lower the percentage, the more accurate the model. "
   ]
  },
  {
   "cell_type": "code",
   "execution_count": 16,
   "id": "a36720dc",
   "metadata": {
    "scrolled": true
   },
   "outputs": [
    {
     "name": "stdout",
     "output_type": "stream",
     "text": [
      "Weight is in kg and Height is in cm\n"
     ]
    },
    {
     "data": {
      "application/vnd.jupyter.widget-view+json": {
       "model_id": "bb2aa9605fd7428885a771778d7eac90",
       "version_major": 2,
       "version_minor": 0
      },
      "text/plain": [
       "interactive(children=(FloatSlider(value=110.0, description='Weight', max=160.0, min=60.0), Output()), _dom_cla…"
      ]
     },
     "metadata": {},
     "output_type": "display_data"
    },
    {
     "data": {
      "application/vnd.jupyter.widget-view+json": {
       "model_id": "abd9ae5d63bc40248901472762080dcc",
       "version_major": 2,
       "version_minor": 0
      },
      "text/plain": [
       "interactive(children=(FloatSlider(value=210.0, description='Height', max=250.0, min=170.0), Output()), _dom_cl…"
      ]
     },
     "metadata": {},
     "output_type": "display_data"
    },
    {
     "data": {
      "application/vnd.jupyter.widget-view+json": {
       "model_id": "a92686e480e24f058657248d507b7721",
       "version_major": 2,
       "version_minor": 0
      },
      "text/plain": [
       "Output()"
      ]
     },
     "metadata": {},
     "output_type": "display_data"
    },
    {
     "data": {
      "application/vnd.jupyter.widget-view+json": {
       "model_id": "74a07b614d8048abae07d98917170d64",
       "version_major": 2,
       "version_minor": 0
      },
      "text/plain": [
       "Button(description='Predict!', style=ButtonStyle())"
      ]
     },
     "metadata": {},
     "output_type": "display_data"
    },
    {
     "name": "stdout",
     "output_type": "stream",
     "text": [
      "The Mean Absolute Percentage Error for the model is: 11.827%\n"
     ]
    }
   ],
   "source": [
    "from matplotlib.widgets import Button\n",
    "from ipywidgets import FloatSlider, interact, interactive, fixed, interact_manual\n",
    "\n",
    "\n",
    "weight2 = 0\n",
    "height2 = 0\n",
    "\n",
    "\n",
    "\n",
    "print(\"Weight is in kg and Height is in cm\")\n",
    "@interact(Weight=(60.0, 160.0))\n",
    "def weightSlider(Weight): \n",
    "    global weight2\n",
    "    weight2 = Weight\n",
    "    return\n",
    "     \n",
    "\n",
    "@interact(Height=(170.0, 250.0))\n",
    "def heightSlider(Height):\n",
    "    global height2\n",
    "    height2 = Height\n",
    "    return\n",
    "\n",
    "\n",
    "def updatePredict(*args):\n",
    "    with out:\n",
    "        out.clear_output()\n",
    "        predictTS = regr.predict([[height2, weight2]])\n",
    "        val = '%.3f'%(predictTS)\n",
    "        print(\"Your prospect's True Shooting % will be: \")\n",
    "        print(val)\n",
    "        \n",
    "\n",
    "\n",
    "out = widgets.Output()\n",
    "display(out)\n",
    "submitPred = widgets.Button(description='Predict!')\n",
    "display(submitPred)\n",
    "submitPred.on_click(updatePredict)\n",
    "\n",
    "\n"
   ]
  },
  {
   "cell_type": "markdown",
   "id": "0605dcec",
   "metadata": {},
   "source": [
    "# Accuracy Rating \n",
    "The lower the percentage, the more accurate the prediction model is.   WGU Draft Inc. strives for a >15% return, every time.  "
   ]
  },
  {
   "cell_type": "code",
   "execution_count": 1,
   "id": "9210469a",
   "metadata": {},
   "outputs": [
    {
     "ename": "NameError",
     "evalue": "name 'regr' is not defined",
     "output_type": "error",
     "traceback": [
      "\u001b[1;31m---------------------------------------------------------------------------\u001b[0m",
      "\u001b[1;31mNameError\u001b[0m                                 Traceback (most recent call last)",
      "\u001b[1;32m~\\AppData\\Local\\Temp/ipykernel_13260/605321361.py\u001b[0m in \u001b[0;36m<module>\u001b[1;34m\u001b[0m\n\u001b[1;32m----> 1\u001b[1;33m \u001b[0my_pred\u001b[0m \u001b[1;33m=\u001b[0m \u001b[0mregr\u001b[0m\u001b[1;33m.\u001b[0m\u001b[0mpredict\u001b[0m\u001b[1;33m(\u001b[0m\u001b[0mX_test\u001b[0m\u001b[1;33m)\u001b[0m\u001b[1;33m\u001b[0m\u001b[1;33m\u001b[0m\u001b[0m\n\u001b[0m\u001b[0;32m      2\u001b[0m \u001b[1;33m\u001b[0m\u001b[0m\n\u001b[0;32m      3\u001b[0m \u001b[1;32mdef\u001b[0m \u001b[0mMAPE\u001b[0m\u001b[1;33m(\u001b[0m\u001b[0mY_actual\u001b[0m\u001b[1;33m,\u001b[0m\u001b[0mY_Predicted\u001b[0m\u001b[1;33m)\u001b[0m\u001b[1;33m:\u001b[0m\u001b[1;33m\u001b[0m\u001b[1;33m\u001b[0m\u001b[0m\n\u001b[0;32m      4\u001b[0m     \u001b[0mmape\u001b[0m \u001b[1;33m=\u001b[0m \u001b[0mnp\u001b[0m\u001b[1;33m.\u001b[0m\u001b[0mmean\u001b[0m\u001b[1;33m(\u001b[0m\u001b[0mnp\u001b[0m\u001b[1;33m.\u001b[0m\u001b[0mabs\u001b[0m\u001b[1;33m(\u001b[0m\u001b[1;33m(\u001b[0m\u001b[0mY_actual\u001b[0m \u001b[1;33m-\u001b[0m \u001b[0mY_Predicted\u001b[0m\u001b[1;33m)\u001b[0m\u001b[1;33m/\u001b[0m\u001b[0mY_actual\u001b[0m\u001b[1;33m)\u001b[0m\u001b[1;33m)\u001b[0m\u001b[1;33m*\u001b[0m\u001b[1;36m100\u001b[0m\u001b[1;33m\u001b[0m\u001b[1;33m\u001b[0m\u001b[0m\n\u001b[0;32m      5\u001b[0m     \u001b[1;32mreturn\u001b[0m \u001b[0mmape\u001b[0m\u001b[1;33m\u001b[0m\u001b[1;33m\u001b[0m\u001b[0m\n",
      "\u001b[1;31mNameError\u001b[0m: name 'regr' is not defined"
     ]
    }
   ],
   "source": [
    "y_pred = regr.predict(X_test)\n",
    "\n",
    "def MAPE(Y_actual,Y_Predicted):\n",
    "    mape = np.mean(np.abs((Y_actual - Y_Predicted)/Y_actual))*100\n",
    "    return mape\n",
    "\n",
    "LR_MAPE = MAPE(y_test,y_pred)\n",
    "print(\"The Mean Absolute Percentage Error for the model is: \" + '%.3f'%LR_MAPE +'%')\n",
    "\n"
   ]
  },
  {
   "cell_type": "code",
   "execution_count": null,
   "id": "262697a1",
   "metadata": {},
   "outputs": [],
   "source": []
  }
 ],
 "metadata": {
  "kernelspec": {
   "display_name": "Python 3 (ipykernel)",
   "language": "python",
   "name": "python3"
  },
  "language_info": {
   "codemirror_mode": {
    "name": "ipython",
    "version": 3
   },
   "file_extension": ".py",
   "mimetype": "text/x-python",
   "name": "python",
   "nbconvert_exporter": "python",
   "pygments_lexer": "ipython3",
   "version": "3.9.0"
  }
 },
 "nbformat": 4,
 "nbformat_minor": 5
}
